{
 "cells": [
  {
   "cell_type": "markdown",
   "id": "cc79dacd-10bc-4c65-9315-4e98c0e7fd84",
   "metadata": {},
   "source": [
    "# Proyecto 1 - MLOPS\n",
    "\n",
    "**Integrantes:**\n",
    "\n",
    "- Camilo Diaz Granados Nobman\n",
    "- Luis Carlos Fernandez Vargas\n",
    "- Daniel Alejandro Ruiz\n"
   ]
  },
  {
   "cell_type": "markdown",
   "id": "0d71ab0c-013d-40e4-893b-f0c212a35f86",
   "metadata": {},
   "source": [
    "Este proyecto busca evaluar la capacidad de crear un ambiente de desarrollo de machine learning\n",
    "en el cual sea posible la ingesta, validación y transformación de datos, demostrando capacidad de\n",
    "versionar código y ambiente de desarrollo.\n"
   ]
  },
  {
   "cell_type": "markdown",
   "id": "8bbdfefc-29cc-4e37-a987-ec9afa3c87e1",
   "metadata": {},
   "source": [
    "Para el proyecto se utiliza una variante del conjunto de datos Tipo de Cubierta Forestal, de acuerdo con lo propuesto. Esto se puede utilizar **para entrenar un modelo que predice el tipo de cobertura forestal en función de variables cartográficas**."
   ]
  },
  {
   "cell_type": "markdown",
   "id": "a3b7cc9b-6195-4e47-b47b-adba741ed19f",
   "metadata": {},
   "source": [
    "## 1. Cargar el Dataset\n",
    "\n",
    "Se procede a realizar la carga del dataset:"
   ]
  },
  {
   "cell_type": "code",
   "execution_count": 2,
   "id": "1757eaaa-acbd-4673-8511-d0effb95bb02",
   "metadata": {},
   "outputs": [],
   "source": [
    "import os\n",
    "import requests\n",
    "\n",
    "# Cambiar la ruta del directorio a la nueva carpeta 'Data'\n",
    "_data_root = '../data/covertype'\n",
    "# Ruta al archivo de datos de entrenamiento\n",
    "_data_filepath = os.path.join(_data_root, 'covertype_train.csv')\n",
    "# Descargar datos\n",
    "os.makedirs(_data_root, exist_ok=True)\n",
    "if not os.path.isfile(_data_filepath):\n",
    "    # URL del dataset\n",
    "    url = 'https://docs.google.com/uc?export=download&confirm={{VALUE}}&id=1lVF1BCWLH4eXXV_YOJzjR7xZjj-wAGj9'\n",
    "    r = requests.get(url, allow_redirects=True, stream=True)\n",
    "    open(_data_filepath, 'wb').write(r.content)\n"
   ]
  },
  {
   "cell_type": "markdown",
   "id": "9415b1c9-35ef-48a0-9065-f951dd5dfd23",
   "metadata": {},
   "source": [
    "## 2. Selección de Caracteristicas"
   ]
  },
  {
   "cell_type": "markdown",
   "id": "475ffed1-94cf-414a-9fd2-8051d0bbffb0",
   "metadata": {},
   "source": [
    "Importamos las librerias necesarias para realizar la validación de los datos"
   ]
  },
  {
   "cell_type": "code",
   "execution_count": 3,
   "id": "79c7aed3-f7de-4d6d-9091-459e1b7f7dcb",
   "metadata": {},
   "outputs": [
    {
     "name": "stderr",
     "output_type": "stream",
     "text": [
      "2025-02-26 00:38:52.672351: I external/local_tsl/tsl/cuda/cudart_stub.cc:32] Could not find cuda drivers on your machine, GPU will not be used.\n",
      "2025-02-26 00:38:52.678742: I external/local_tsl/tsl/cuda/cudart_stub.cc:32] Could not find cuda drivers on your machine, GPU will not be used.\n",
      "2025-02-26 00:38:52.699019: E external/local_xla/xla/stream_executor/cuda/cuda_fft.cc:479] Unable to register cuFFT factory: Attempting to register factory for plugin cuFFT when one has already been registered\n",
      "2025-02-26 00:38:52.737141: E external/local_xla/xla/stream_executor/cuda/cuda_dnn.cc:10575] Unable to register cuDNN factory: Attempting to register factory for plugin cuDNN when one has already been registered\n",
      "2025-02-26 00:38:52.737205: E external/local_xla/xla/stream_executor/cuda/cuda_blas.cc:1442] Unable to register cuBLAS factory: Attempting to register factory for plugin cuBLAS when one has already been registered\n",
      "2025-02-26 00:38:52.764345: I tensorflow/core/platform/cpu_feature_guard.cc:210] This TensorFlow binary is optimized to use available CPU instructions in performance-critical operations.\n",
      "To enable the following instructions: AVX2 FMA, in other operations, rebuild TensorFlow with the appropriate compiler flags.\n",
      "2025-02-26 00:38:54.414992: W tensorflow/compiler/tf2tensorrt/utils/py_utils.cc:38] TF-TRT Warning: Could not find TensorRT\n"
     ]
    },
    {
     "name": "stdout",
     "output_type": "stream",
     "text": [
      "TF version: 2.16.2\n",
      "TFDV version: 1.16.1\n"
     ]
    }
   ],
   "source": [
    "import os\n",
    "import requests\n",
    "import pandas as pd\n",
    "import tensorflow as tf\n",
    "import tensorflow_data_validation as tfdv\n",
    "from sklearn.model_selection import train_test_split\n",
    "print('TF version:', tf.__version__)\n",
    "print('TFDV version:', tfdv.version.__version__)"
   ]
  },
  {
   "cell_type": "code",
   "execution_count": 6,
   "id": "4fae4c86-2369-4744-a958-72cba914e045",
   "metadata": {},
   "outputs": [
    {
     "data": {
      "text/html": [
       "<div>\n",
       "<style scoped>\n",
       "    .dataframe tbody tr th:only-of-type {\n",
       "        vertical-align: middle;\n",
       "    }\n",
       "\n",
       "    .dataframe tbody tr th {\n",
       "        vertical-align: top;\n",
       "    }\n",
       "\n",
       "    .dataframe thead th {\n",
       "        text-align: right;\n",
       "    }\n",
       "</style>\n",
       "<table border=\"1\" class=\"dataframe\">\n",
       "  <thead>\n",
       "    <tr style=\"text-align: right;\">\n",
       "      <th></th>\n",
       "      <th>Elevation</th>\n",
       "      <th>Aspect</th>\n",
       "      <th>Slope</th>\n",
       "      <th>Horizontal_Distance_To_Hydrology</th>\n",
       "      <th>Vertical_Distance_To_Hydrology</th>\n",
       "      <th>Horizontal_Distance_To_Roadways</th>\n",
       "      <th>Hillshade_9am</th>\n",
       "      <th>Hillshade_Noon</th>\n",
       "      <th>Hillshade_3pm</th>\n",
       "      <th>Horizontal_Distance_To_Fire_Points</th>\n",
       "      <th>Wilderness_Area</th>\n",
       "      <th>Soil_Type</th>\n",
       "      <th>Cover_Type</th>\n",
       "    </tr>\n",
       "  </thead>\n",
       "  <tbody>\n",
       "    <tr>\n",
       "      <th>0</th>\n",
       "      <td>2991</td>\n",
       "      <td>119</td>\n",
       "      <td>7</td>\n",
       "      <td>67</td>\n",
       "      <td>11</td>\n",
       "      <td>1015</td>\n",
       "      <td>233</td>\n",
       "      <td>234</td>\n",
       "      <td>133</td>\n",
       "      <td>1570</td>\n",
       "      <td>Commanche</td>\n",
       "      <td>C7202</td>\n",
       "      <td>1</td>\n",
       "    </tr>\n",
       "    <tr>\n",
       "      <th>1</th>\n",
       "      <td>2876</td>\n",
       "      <td>3</td>\n",
       "      <td>18</td>\n",
       "      <td>485</td>\n",
       "      <td>71</td>\n",
       "      <td>2495</td>\n",
       "      <td>192</td>\n",
       "      <td>202</td>\n",
       "      <td>144</td>\n",
       "      <td>1557</td>\n",
       "      <td>Commanche</td>\n",
       "      <td>C7757</td>\n",
       "      <td>1</td>\n",
       "    </tr>\n",
       "    <tr>\n",
       "      <th>2</th>\n",
       "      <td>3171</td>\n",
       "      <td>315</td>\n",
       "      <td>2</td>\n",
       "      <td>277</td>\n",
       "      <td>9</td>\n",
       "      <td>4374</td>\n",
       "      <td>213</td>\n",
       "      <td>237</td>\n",
       "      <td>162</td>\n",
       "      <td>1052</td>\n",
       "      <td>Rawah</td>\n",
       "      <td>C7745</td>\n",
       "      <td>0</td>\n",
       "    </tr>\n",
       "    <tr>\n",
       "      <th>3</th>\n",
       "      <td>3087</td>\n",
       "      <td>342</td>\n",
       "      <td>13</td>\n",
       "      <td>190</td>\n",
       "      <td>31</td>\n",
       "      <td>4774</td>\n",
       "      <td>193</td>\n",
       "      <td>221</td>\n",
       "      <td>166</td>\n",
       "      <td>752</td>\n",
       "      <td>Rawah</td>\n",
       "      <td>C7745</td>\n",
       "      <td>0</td>\n",
       "    </tr>\n",
       "    <tr>\n",
       "      <th>4</th>\n",
       "      <td>2835</td>\n",
       "      <td>158</td>\n",
       "      <td>10</td>\n",
       "      <td>212</td>\n",
       "      <td>41</td>\n",
       "      <td>3596</td>\n",
       "      <td>231</td>\n",
       "      <td>242</td>\n",
       "      <td>141</td>\n",
       "      <td>3280</td>\n",
       "      <td>Rawah</td>\n",
       "      <td>C4744</td>\n",
       "      <td>1</td>\n",
       "    </tr>\n",
       "  </tbody>\n",
       "</table>\n",
       "</div>"
      ],
      "text/plain": [
       "   Elevation  Aspect  Slope  Horizontal_Distance_To_Hydrology  \\\n",
       "0       2991     119      7                                67   \n",
       "1       2876       3     18                               485   \n",
       "2       3171     315      2                               277   \n",
       "3       3087     342     13                               190   \n",
       "4       2835     158     10                               212   \n",
       "\n",
       "   Vertical_Distance_To_Hydrology  Horizontal_Distance_To_Roadways  \\\n",
       "0                              11                             1015   \n",
       "1                              71                             2495   \n",
       "2                               9                             4374   \n",
       "3                              31                             4774   \n",
       "4                              41                             3596   \n",
       "\n",
       "   Hillshade_9am  Hillshade_Noon  Hillshade_3pm  \\\n",
       "0            233             234            133   \n",
       "1            192             202            144   \n",
       "2            213             237            162   \n",
       "3            193             221            166   \n",
       "4            231             242            141   \n",
       "\n",
       "   Horizontal_Distance_To_Fire_Points Wilderness_Area Soil_Type  Cover_Type  \n",
       "0                                1570       Commanche     C7202           1  \n",
       "1                                1557       Commanche     C7757           1  \n",
       "2                                1052           Rawah     C7745           0  \n",
       "3                                 752           Rawah     C7745           0  \n",
       "4                                3280           Rawah     C4744           1  "
      ]
     },
     "execution_count": 6,
     "metadata": {},
     "output_type": "execute_result"
    }
   ],
   "source": [
    "# Cargamos el dataset en un Dataframe desde la nueva ubicación\n",
    "data_filepath = '../data/covertype/covertype_train.csv'\n",
    "df = pd.read_csv(data_filepath, index_col=False)\n",
    "df.head()"
   ]
  },
  {
   "cell_type": "code",
   "execution_count": 7,
   "id": "adaf44a9-7c37-45e4-a091-930f5a62607e",
   "metadata": {},
   "outputs": [
    {
     "name": "stdout",
     "output_type": "stream",
     "text": [
      "<class 'pandas.core.frame.DataFrame'>\n",
      "RangeIndex: 116203 entries, 0 to 116202\n",
      "Data columns (total 13 columns):\n",
      " #   Column                              Non-Null Count   Dtype \n",
      "---  ------                              --------------   ----- \n",
      " 0   Elevation                           116203 non-null  int64 \n",
      " 1   Aspect                              116203 non-null  int64 \n",
      " 2   Slope                               116203 non-null  int64 \n",
      " 3   Horizontal_Distance_To_Hydrology    116203 non-null  int64 \n",
      " 4   Vertical_Distance_To_Hydrology      116203 non-null  int64 \n",
      " 5   Horizontal_Distance_To_Roadways     116203 non-null  int64 \n",
      " 6   Hillshade_9am                       116203 non-null  int64 \n",
      " 7   Hillshade_Noon                      116203 non-null  int64 \n",
      " 8   Hillshade_3pm                       116203 non-null  int64 \n",
      " 9   Horizontal_Distance_To_Fire_Points  116203 non-null  int64 \n",
      " 10  Wilderness_Area                     116203 non-null  object\n",
      " 11  Soil_Type                           116203 non-null  object\n",
      " 12  Cover_Type                          116203 non-null  int64 \n",
      "dtypes: int64(11), object(2)\n",
      "memory usage: 11.5+ MB\n"
     ]
    }
   ],
   "source": [
    "#Validamos la información de las caracteristicas\n",
    "df.info()"
   ]
  },
  {
   "cell_type": "markdown",
   "id": "0ce9c554-fa81-41b7-aadf-b7382b8920f6",
   "metadata": {},
   "source": [
    "Teniendo en cuenta que dos (2) de las caracteristicas son categoricas, creamos subconjuntos de las caracteristicas con el fin de calificar cuales tienen un mayor impacto en la predicción de la etiqueta \"Cover_Type\""
   ]
  },
  {
   "cell_type": "code",
   "execution_count": 9,
   "id": "5c5b213b-c854-4247-b8a3-0e48e0da9917",
   "metadata": {},
   "outputs": [
    {
     "name": "stdout",
     "output_type": "stream",
     "text": [
      "Características numéricas:\n",
      "<class 'pandas.core.frame.DataFrame'>\n",
      "RangeIndex: 116203 entries, 0 to 116202\n",
      "Data columns (total 11 columns):\n",
      " #   Column                              Non-Null Count   Dtype\n",
      "---  ------                              --------------   -----\n",
      " 0   Elevation                           116203 non-null  int64\n",
      " 1   Aspect                              116203 non-null  int64\n",
      " 2   Slope                               116203 non-null  int64\n",
      " 3   Horizontal_Distance_To_Hydrology    116203 non-null  int64\n",
      " 4   Vertical_Distance_To_Hydrology      116203 non-null  int64\n",
      " 5   Horizontal_Distance_To_Roadways     116203 non-null  int64\n",
      " 6   Hillshade_9am                       116203 non-null  int64\n",
      " 7   Hillshade_Noon                      116203 non-null  int64\n",
      " 8   Hillshade_3pm                       116203 non-null  int64\n",
      " 9   Horizontal_Distance_To_Fire_Points  116203 non-null  int64\n",
      " 10  Cover_Type                          116203 non-null  int64\n",
      "dtypes: int64(11)\n",
      "memory usage: 9.8 MB\n",
      "None\n",
      "\n",
      "Características categóricas:\n",
      "<class 'pandas.core.frame.DataFrame'>\n",
      "RangeIndex: 116203 entries, 0 to 116202\n",
      "Data columns (total 2 columns):\n",
      " #   Column           Non-Null Count   Dtype \n",
      "---  ------           --------------   ----- \n",
      " 0   Wilderness_Area  116203 non-null  object\n",
      " 1   Soil_Type        116203 non-null  object\n",
      "dtypes: object(2)\n",
      "memory usage: 1.8+ MB\n",
      "None\n"
     ]
    }
   ],
   "source": [
    "#Creamos subconjuntos\n",
    "numeric_features = df.select_dtypes(include=[int, float])\n",
    "categorical_features = df.select_dtypes(include=[object])\n",
    "\n",
    "print(\"Características numéricas:\")\n",
    "print(numeric_features.info())\n",
    "\n",
    "print(\"\\nCaracterísticas categóricas:\")\n",
    "print(categorical_features.info())"
   ]
  },
  {
   "cell_type": "code",
   "execution_count": null,
   "id": "6cda2cd9-156b-4ea9-ad7e-d0b607c58d29",
   "metadata": {},
   "outputs": [],
   "source": []
  }
 ],
 "metadata": {
  "kernelspec": {
   "display_name": "Python 3 (ipykernel)",
   "language": "python",
   "name": "python3"
  },
  "language_info": {
   "codemirror_mode": {
    "name": "ipython",
    "version": 3
   },
   "file_extension": ".py",
   "mimetype": "text/x-python",
   "name": "python",
   "nbconvert_exporter": "python",
   "pygments_lexer": "ipython3",
   "version": "3.10.16"
  }
 },
 "nbformat": 4,
 "nbformat_minor": 5
}
