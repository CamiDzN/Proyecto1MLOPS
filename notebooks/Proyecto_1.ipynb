{
 "cells": [
  {
   "cell_type": "markdown",
   "id": "cc79dacd-10bc-4c65-9315-4e98c0e7fd84",
   "metadata": {},
   "source": [
    "# Proyecto 1 - MLOPS\n",
    "\n",
    "**Integrantes:**\n",
    "\n",
    "- Camilo Diaz Granados Nobman\n",
    "- Luis Carlos Fernandez Vargas\n",
    "- Daniel Alejandro Ruiz\n"
   ]
  },
  {
   "cell_type": "markdown",
   "id": "0d71ab0c-013d-40e4-893b-f0c212a35f86",
   "metadata": {},
   "source": [
    "Este proyecto busca evaluar la capacidad de crear un ambiente de desarrollo de machine learning\n",
    "en el cual sea posible la ingesta, validación y transformación de datos, demostrando capacidad de\n",
    "versionar código y ambiente de desarrollo.\n"
   ]
  },
  {
   "cell_type": "markdown",
   "id": "8bbdfefc-29cc-4e37-a987-ec9afa3c87e1",
   "metadata": {},
   "source": [
    "Para el proyecto se utiliza una variante del conjunto de datos Tipo de Cubierta Forestal, de acuerdo con lo propuesto. Esto se puede utilizar **para entrenar un modelo que predice el tipo de cobertura forestal en función de variables cartográficas**."
   ]
  },
  {
   "cell_type": "markdown",
   "id": "a3b7cc9b-6195-4e47-b47b-adba741ed19f",
   "metadata": {},
   "source": [
    "## 1. Cargar el Dataset\n",
    "\n",
    "Se procede a realizar la carga del dataset:"
   ]
  },
  {
   "cell_type": "code",
   "execution_count": 19,
   "id": "1757eaaa-acbd-4673-8511-d0effb95bb02",
   "metadata": {
    "tags": []
   },
   "outputs": [],
   "source": [
    "import os\n",
    "import requests\n",
    "\n",
    "# Cambiar la ruta del directorio a la nueva carpeta 'Data'\n",
    "_data_root = '../data/covertype'\n",
    "# Ruta al archivo de datos de entrenamiento\n",
    "_data_filepath = os.path.join(_data_root, 'covertype_train.csv')\n",
    "# Descargar datos\n",
    "os.makedirs(_data_root, exist_ok=True)\n",
    "if not os.path.isfile(_data_filepath):\n",
    "    # URL del dataset\n",
    "    url = 'https://docs.google.com/uc?export=download&confirm={{VALUE}}&id=1lVF1BCWLH4eXXV_YOJzjR7xZjj-wAGj9'\n",
    "    r = requests.get(url, allow_redirects=True, stream=True)\n",
    "    open(_data_filepath, 'wb').write(r.content)\n"
   ]
  },
  {
   "cell_type": "markdown",
   "id": "9415b1c9-35ef-48a0-9065-f951dd5dfd23",
   "metadata": {},
   "source": [
    "## 2. Selección de Caracteristicas"
   ]
  },
  {
   "cell_type": "markdown",
   "id": "475ffed1-94cf-414a-9fd2-8051d0bbffb0",
   "metadata": {},
   "source": [
    "Importamos las librerias necesarias para realizar la validación de los datos"
   ]
  },
  {
   "cell_type": "code",
   "execution_count": 20,
   "id": "738a59e3-dde4-4b13-88c8-09087401a22f",
   "metadata": {},
   "outputs": [
    {
     "name": "stdout",
     "output_type": "stream",
     "text": [
      "1.26.4\n"
     ]
    }
   ],
   "source": [
    "import numpy as np\n",
    "print(np.__version__)"
   ]
  },
  {
   "cell_type": "code",
   "execution_count": 21,
   "id": "79c7aed3-f7de-4d6d-9091-459e1b7f7dcb",
   "metadata": {
    "tags": []
   },
   "outputs": [
    {
     "name": "stdout",
     "output_type": "stream",
     "text": [
      "TF version: 2.16.2\n",
      "TFDV version: 1.16.1\n"
     ]
    }
   ],
   "source": [
    "import os\n",
    "import requests\n",
    "import pandas as pd\n",
    "import tensorflow as tf\n",
    "import tensorflow_data_validation as tfdv\n",
    "from sklearn.model_selection import train_test_split\n",
    "print('TF version:', tf.__version__)\n",
    "print('TFDV version:', tfdv.version.__version__)"
   ]
  },
  {
   "cell_type": "code",
   "execution_count": 22,
   "id": "4fae4c86-2369-4744-a958-72cba914e045",
   "metadata": {},
   "outputs": [
    {
     "data": {
      "text/html": [
       "<div>\n",
       "<style scoped>\n",
       "    .dataframe tbody tr th:only-of-type {\n",
       "        vertical-align: middle;\n",
       "    }\n",
       "\n",
       "    .dataframe tbody tr th {\n",
       "        vertical-align: top;\n",
       "    }\n",
       "\n",
       "    .dataframe thead th {\n",
       "        text-align: right;\n",
       "    }\n",
       "</style>\n",
       "<table border=\"1\" class=\"dataframe\">\n",
       "  <thead>\n",
       "    <tr style=\"text-align: right;\">\n",
       "      <th></th>\n",
       "      <th>Elevation</th>\n",
       "      <th>Aspect</th>\n",
       "      <th>Slope</th>\n",
       "      <th>Horizontal_Distance_To_Hydrology</th>\n",
       "      <th>Vertical_Distance_To_Hydrology</th>\n",
       "      <th>Horizontal_Distance_To_Roadways</th>\n",
       "      <th>Hillshade_9am</th>\n",
       "      <th>Hillshade_Noon</th>\n",
       "      <th>Hillshade_3pm</th>\n",
       "      <th>Horizontal_Distance_To_Fire_Points</th>\n",
       "      <th>Wilderness_Area</th>\n",
       "      <th>Soil_Type</th>\n",
       "      <th>Cover_Type</th>\n",
       "    </tr>\n",
       "  </thead>\n",
       "  <tbody>\n",
       "    <tr>\n",
       "      <th>0</th>\n",
       "      <td>2991</td>\n",
       "      <td>119</td>\n",
       "      <td>7</td>\n",
       "      <td>67</td>\n",
       "      <td>11</td>\n",
       "      <td>1015</td>\n",
       "      <td>233</td>\n",
       "      <td>234</td>\n",
       "      <td>133</td>\n",
       "      <td>1570</td>\n",
       "      <td>Commanche</td>\n",
       "      <td>C7202</td>\n",
       "      <td>1</td>\n",
       "    </tr>\n",
       "    <tr>\n",
       "      <th>1</th>\n",
       "      <td>2876</td>\n",
       "      <td>3</td>\n",
       "      <td>18</td>\n",
       "      <td>485</td>\n",
       "      <td>71</td>\n",
       "      <td>2495</td>\n",
       "      <td>192</td>\n",
       "      <td>202</td>\n",
       "      <td>144</td>\n",
       "      <td>1557</td>\n",
       "      <td>Commanche</td>\n",
       "      <td>C7757</td>\n",
       "      <td>1</td>\n",
       "    </tr>\n",
       "    <tr>\n",
       "      <th>2</th>\n",
       "      <td>3171</td>\n",
       "      <td>315</td>\n",
       "      <td>2</td>\n",
       "      <td>277</td>\n",
       "      <td>9</td>\n",
       "      <td>4374</td>\n",
       "      <td>213</td>\n",
       "      <td>237</td>\n",
       "      <td>162</td>\n",
       "      <td>1052</td>\n",
       "      <td>Rawah</td>\n",
       "      <td>C7745</td>\n",
       "      <td>0</td>\n",
       "    </tr>\n",
       "    <tr>\n",
       "      <th>3</th>\n",
       "      <td>3087</td>\n",
       "      <td>342</td>\n",
       "      <td>13</td>\n",
       "      <td>190</td>\n",
       "      <td>31</td>\n",
       "      <td>4774</td>\n",
       "      <td>193</td>\n",
       "      <td>221</td>\n",
       "      <td>166</td>\n",
       "      <td>752</td>\n",
       "      <td>Rawah</td>\n",
       "      <td>C7745</td>\n",
       "      <td>0</td>\n",
       "    </tr>\n",
       "    <tr>\n",
       "      <th>4</th>\n",
       "      <td>2835</td>\n",
       "      <td>158</td>\n",
       "      <td>10</td>\n",
       "      <td>212</td>\n",
       "      <td>41</td>\n",
       "      <td>3596</td>\n",
       "      <td>231</td>\n",
       "      <td>242</td>\n",
       "      <td>141</td>\n",
       "      <td>3280</td>\n",
       "      <td>Rawah</td>\n",
       "      <td>C4744</td>\n",
       "      <td>1</td>\n",
       "    </tr>\n",
       "  </tbody>\n",
       "</table>\n",
       "</div>"
      ],
      "text/plain": [
       "   Elevation  Aspect  Slope  Horizontal_Distance_To_Hydrology  \\\n",
       "0       2991     119      7                                67   \n",
       "1       2876       3     18                               485   \n",
       "2       3171     315      2                               277   \n",
       "3       3087     342     13                               190   \n",
       "4       2835     158     10                               212   \n",
       "\n",
       "   Vertical_Distance_To_Hydrology  Horizontal_Distance_To_Roadways  \\\n",
       "0                              11                             1015   \n",
       "1                              71                             2495   \n",
       "2                               9                             4374   \n",
       "3                              31                             4774   \n",
       "4                              41                             3596   \n",
       "\n",
       "   Hillshade_9am  Hillshade_Noon  Hillshade_3pm  \\\n",
       "0            233             234            133   \n",
       "1            192             202            144   \n",
       "2            213             237            162   \n",
       "3            193             221            166   \n",
       "4            231             242            141   \n",
       "\n",
       "   Horizontal_Distance_To_Fire_Points Wilderness_Area Soil_Type  Cover_Type  \n",
       "0                                1570       Commanche     C7202           1  \n",
       "1                                1557       Commanche     C7757           1  \n",
       "2                                1052           Rawah     C7745           0  \n",
       "3                                 752           Rawah     C7745           0  \n",
       "4                                3280           Rawah     C4744           1  "
      ]
     },
     "execution_count": 22,
     "metadata": {},
     "output_type": "execute_result"
    }
   ],
   "source": [
    "# Cargamos el dataset en un Dataframe desde la nueva ubicación\n",
    "data_filepath = '../data/covertype/covertype_train.csv'\n",
    "df = pd.read_csv(data_filepath, index_col=False)\n",
    "df.head()"
   ]
  },
  {
   "cell_type": "code",
   "execution_count": 23,
   "id": "adaf44a9-7c37-45e4-a091-930f5a62607e",
   "metadata": {},
   "outputs": [
    {
     "name": "stdout",
     "output_type": "stream",
     "text": [
      "<class 'pandas.core.frame.DataFrame'>\n",
      "RangeIndex: 116203 entries, 0 to 116202\n",
      "Data columns (total 13 columns):\n",
      " #   Column                              Non-Null Count   Dtype \n",
      "---  ------                              --------------   ----- \n",
      " 0   Elevation                           116203 non-null  int64 \n",
      " 1   Aspect                              116203 non-null  int64 \n",
      " 2   Slope                               116203 non-null  int64 \n",
      " 3   Horizontal_Distance_To_Hydrology    116203 non-null  int64 \n",
      " 4   Vertical_Distance_To_Hydrology      116203 non-null  int64 \n",
      " 5   Horizontal_Distance_To_Roadways     116203 non-null  int64 \n",
      " 6   Hillshade_9am                       116203 non-null  int64 \n",
      " 7   Hillshade_Noon                      116203 non-null  int64 \n",
      " 8   Hillshade_3pm                       116203 non-null  int64 \n",
      " 9   Horizontal_Distance_To_Fire_Points  116203 non-null  int64 \n",
      " 10  Wilderness_Area                     116203 non-null  object\n",
      " 11  Soil_Type                           116203 non-null  object\n",
      " 12  Cover_Type                          116203 non-null  int64 \n",
      "dtypes: int64(11), object(2)\n",
      "memory usage: 11.5+ MB\n"
     ]
    }
   ],
   "source": [
    "#Validamos la información de las caracteristicas\n",
    "df.info()"
   ]
  },
  {
   "cell_type": "markdown",
   "id": "0ce9c554-fa81-41b7-aadf-b7382b8920f6",
   "metadata": {},
   "source": [
    "Teniendo en cuenta que dos (2) de las caracteristicas son categoricas, creamos subconjuntos de las caracteristicas con el fin de calificar cuales tienen un mayor impacto en la predicción de la etiqueta \"Cover_Type\""
   ]
  },
  {
   "cell_type": "code",
   "execution_count": 24,
   "id": "5c5b213b-c854-4247-b8a3-0e48e0da9917",
   "metadata": {},
   "outputs": [
    {
     "name": "stdout",
     "output_type": "stream",
     "text": [
      "Características numéricas:\n",
      "<class 'pandas.core.frame.DataFrame'>\n",
      "RangeIndex: 116203 entries, 0 to 116202\n",
      "Data columns (total 11 columns):\n",
      " #   Column                              Non-Null Count   Dtype\n",
      "---  ------                              --------------   -----\n",
      " 0   Elevation                           116203 non-null  int64\n",
      " 1   Aspect                              116203 non-null  int64\n",
      " 2   Slope                               116203 non-null  int64\n",
      " 3   Horizontal_Distance_To_Hydrology    116203 non-null  int64\n",
      " 4   Vertical_Distance_To_Hydrology      116203 non-null  int64\n",
      " 5   Horizontal_Distance_To_Roadways     116203 non-null  int64\n",
      " 6   Hillshade_9am                       116203 non-null  int64\n",
      " 7   Hillshade_Noon                      116203 non-null  int64\n",
      " 8   Hillshade_3pm                       116203 non-null  int64\n",
      " 9   Horizontal_Distance_To_Fire_Points  116203 non-null  int64\n",
      " 10  Cover_Type                          116203 non-null  int64\n",
      "dtypes: int64(11)\n",
      "memory usage: 9.8 MB\n",
      "None\n",
      "\n",
      "Características categóricas:\n",
      "<class 'pandas.core.frame.DataFrame'>\n",
      "RangeIndex: 116203 entries, 0 to 116202\n",
      "Data columns (total 2 columns):\n",
      " #   Column           Non-Null Count   Dtype \n",
      "---  ------           --------------   ----- \n",
      " 0   Wilderness_Area  116203 non-null  object\n",
      " 1   Soil_Type        116203 non-null  object\n",
      "dtypes: object(2)\n",
      "memory usage: 1.8+ MB\n",
      "None\n"
     ]
    }
   ],
   "source": [
    "#Creamos subconjuntos\n",
    "numeric_features = df.select_dtypes(include=[int, float])\n",
    "categorical_features = df.select_dtypes(include=[object])\n",
    "\n",
    "print(\"Características numéricas:\")\n",
    "print(numeric_features.info())\n",
    "\n",
    "print(\"\\nCaracterísticas categóricas:\")\n",
    "print(categorical_features.info())"
   ]
  },
  {
   "cell_type": "markdown",
   "id": "1f174847-7ec0-483b-b069-46d9e8ba0bda",
   "metadata": {},
   "source": [
    "De acuerdo con las instrucciones del taller seleccionamos únicamente las caracteristicas númericas y separamos nuestra variable objetivo \"Cover_Type\"."
   ]
  },
  {
   "cell_type": "code",
   "execution_count": 25,
   "id": "6cda2cd9-156b-4ea9-ad7e-d0b607c58d29",
   "metadata": {},
   "outputs": [
    {
     "name": "stdout",
     "output_type": "stream",
     "text": [
      "Dimensiones de X antes de la selección: (116203, 10)\n"
     ]
    }
   ],
   "source": [
    "# Definimos la variable objetivo y removemos Cover_Type de las columnas de entrada\n",
    "y = numeric_features['Cover_Type']\n",
    "X = numeric_features.drop('Cover_Type', axis=1, errors='ignore')\n",
    "\n",
    "print(\"Dimensiones de X antes de la selección:\", X.shape)"
   ]
  },
  {
   "cell_type": "markdown",
   "id": "4cec688e-e061-47da-ab8f-7831737f4771",
   "metadata": {},
   "source": [
    "Importamos las librerias para ejecutar la selección de las 8 mejores caracteristicas a través de \"SelectKBest\""
   ]
  },
  {
   "cell_type": "code",
   "execution_count": 26,
   "id": "49348796-43de-43e7-a59f-ab2db1036943",
   "metadata": {},
   "outputs": [],
   "source": [
    "from sklearn.feature_selection import SelectKBest, f_classif"
   ]
  },
  {
   "cell_type": "code",
   "execution_count": 27,
   "id": "3ff83b6a-455f-47b2-9628-9682d77e875f",
   "metadata": {},
   "outputs": [
    {
     "name": "stdout",
     "output_type": "stream",
     "text": [
      "Columnas seleccionadas (k=8):\n",
      " ['Elevation', 'Slope', 'Horizontal_Distance_To_Hydrology', 'Vertical_Distance_To_Hydrology', 'Horizontal_Distance_To_Roadways', 'Hillshade_9am', 'Hillshade_Noon', 'Horizontal_Distance_To_Fire_Points']\n"
     ]
    }
   ],
   "source": [
    "k = 8\n",
    "\n",
    "# Crear el selector con la función de puntuación elegida\n",
    "selector = SelectKBest(score_func=f_classif, k=k)\n",
    "\n",
    "# Ajustar el selector y transformar X\n",
    "X_selected = selector.fit_transform(X, y)\n",
    "\n",
    "# Obtener los nombres de las columnas que han sido seleccionadas\n",
    "selected_cols = X.columns[selector.get_support()]\n",
    "print(f\"Columnas seleccionadas (k={k}):\\n\", selected_cols.tolist())"
   ]
  },
  {
   "cell_type": "markdown",
   "id": "72ebd0c0-573d-4af4-859e-1b29fd851563",
   "metadata": {},
   "source": [
    "Se obtiene el resultado esperado según el taller, quitando de las caracteristicas seleccionadas a \"Aspect\" y \"Hillshade3pm\". Por lo que construimos un archivo CSV con los datos previamente seleccionados."
   ]
  },
  {
   "cell_type": "code",
   "execution_count": 28,
   "id": "ad12a60c-4c8c-432b-a9d0-3df046ac3123",
   "metadata": {},
   "outputs": [],
   "source": [
    "# Construir el DataFrame con las columnas seleccionadas y la variable target\n",
    "df_selected = pd.DataFrame(X_selected, columns=selected_cols)\n",
    "df_selected['Cover_Type'] = y.values\n",
    "\n",
    "# Definir la ruta externa usando una ruta relativa\n",
    "external_data_dir = os.path.abspath(os.path.join(os.getcwd(), '..', 'data'))\n",
    "# Organiza las carpetas internas según necesites, en este caso:\n",
    "output_dir = os.path.join(external_data_dir, 'selected_dataset')\n",
    "os.makedirs(output_dir, exist_ok=True)\n",
    "\n",
    "# Ruta completa donde se guardará el CSV\n",
    "output_path = os.path.join(output_dir, 'selected.csv')\n",
    "df_selected.to_csv(output_path, index=False)"
   ]
  },
  {
   "cell_type": "markdown",
   "id": "8a0c4772-5120-4a7d-a095-a43b11f76f63",
   "metadata": {},
   "source": [
    "## 3. Data Pipeline"
   ]
  },
  {
   "cell_type": "markdown",
   "id": "18954e93-6c21-4f5a-9600-3fdf8a1e16cb",
   "metadata": {},
   "source": [
    "Primero configuramos el contexto interactivo para ejecutar manualmente los componentes de canalización desde un cuaderno definiendo la ruta. \n",
    "La base de datos sqlite la mantenemos en el directorio Root de este Pipeline."
   ]
  },
  {
   "cell_type": "code",
   "execution_count": 29,
   "id": "c381d9b8-5759-4d31-b781-a65ecf4a965e",
   "metadata": {},
   "outputs": [],
   "source": [
    "#Importamos las librerias necesarias\n",
    "from tfx.components import CsvExampleGen\n",
    "from tfx.components import ExampleValidator\n",
    "from tfx.components import SchemaGen\n",
    "from tfx.components import StatisticsGen\n",
    "from tfx.components import Transform\n",
    "\n",
    "from tfx.orchestration.experimental.interactive.interactive_context import InteractiveContext\n",
    "from google.protobuf.json_format import MessageToDict\n",
    "\n",
    "import pprint\n",
    "pp = pprint.PrettyPrinter()"
   ]
  },
  {
   "cell_type": "code",
   "execution_count": 45,
   "id": "e12c5be6-b953-45d7-a763-81f8373f17ac",
   "metadata": {},
   "outputs": [],
   "source": [
    "# Ubicación de la Metadata del Pipeline\n",
    "_pipeline_root = './pipeline_root/'\n",
    "\n",
    "# Directorio de los archivos de data \"raw\"\n",
    "_data_root = '../data/selected_dataset'\n",
    "\n",
    "# Ruta de la data de entrenamiento \"raw\" \n",
    "_data_filepath = os.path.join(_data_root, 'selected.csv')"
   ]
  },
  {
   "cell_type": "code",
   "execution_count": 40,
   "id": "813a8838-ff4e-4737-9dd6-498e72389654",
   "metadata": {},
   "outputs": [],
   "source": [
    "# Ubicación de la Metadata del Pipeline\n",
    "_pipeline_root = './pipeline_root/'\n",
    "\n",
    "# Directorio de los archivos de data \"raw\"\n",
    "_data_root = '../data/covertype'\n",
    "\n",
    "# Ruta de la data de entrenamiento \"raw\" \n",
    "_data_filepath = os.path.join(_data_root, 'covertype_train.csv')"
   ]
  },
  {
   "cell_type": "code",
   "execution_count": 46,
   "id": "45a78aec-7e03-4328-8491-f7e2d4de1615",
   "metadata": {},
   "outputs": [
    {
     "name": "stderr",
     "output_type": "stream",
     "text": [
      "WARNING:absl:InteractiveContext metadata_connection_config not provided: using SQLite ML Metadata database at ./pipeline_root/metadata.sqlite.\n"
     ]
    }
   ],
   "source": [
    "# Inicializar el InteractiveContext con un archivo de sqlite local.\n",
    "context = InteractiveContext(pipeline_root=_pipeline_root)"
   ]
  },
  {
   "cell_type": "markdown",
   "id": "629e4c7e-cfea-4ec6-96f3-92483e89e2c2",
   "metadata": {},
   "source": [
    "Validamos la ubicación de _data_root y con el fin de evitar que exis"
   ]
  },
  {
   "cell_type": "code",
   "execution_count": 47,
   "id": "d5047219-1665-4e4d-b500-5003ac7ec0cf",
   "metadata": {},
   "outputs": [
    {
     "data": {
      "text/plain": [
       "['selected.csv', '.ipynb_checkpoints']"
      ]
     },
     "execution_count": 47,
     "metadata": {},
     "output_type": "execute_result"
    }
   ],
   "source": [
    "os.listdir(_data_root)"
   ]
  },
  {
   "cell_type": "code",
   "execution_count": 50,
   "id": "c3181fd1-12db-45cf-bda7-d830f41a2f1c",
   "metadata": {},
   "outputs": [],
   "source": [
    "import os\n",
    "import shutil\n",
    "\n",
    "# Directorio que contiene el CSV y potencialmente otros archivos\n",
    "data_dir = os.path.abspath(os.path.join(os.getcwd(), '..', 'data', 'selected_dataset'))\n",
    "\n",
    "# Elimina la carpeta .ipynb_checkpoints si existe\n",
    "checkpoints_path = os.path.join(data_dir, '.ipynb_checkpoints')\n",
    "if os.path.exists(checkpoints_path) and os.path.isdir(checkpoints_path):\n",
    "    shutil.rmtree(checkpoints_path)"
   ]
  },
  {
   "cell_type": "code",
   "execution_count": 51,
   "id": "8117236a-800e-4c15-a598-5fa9c81828bb",
   "metadata": {},
   "outputs": [
    {
     "data": {
      "text/plain": [
       "['selected.csv']"
      ]
     },
     "execution_count": 51,
     "metadata": {},
     "output_type": "execute_result"
    }
   ],
   "source": [
    "os.listdir(_data_root)"
   ]
  },
  {
   "cell_type": "markdown",
   "id": "b33413be-731a-445f-84cb-db0c0b8e6920",
   "metadata": {},
   "source": [
    "### Generamos los Ejemplos"
   ]
  },
  {
   "cell_type": "code",
   "execution_count": 52,
   "id": "17075dde-70ce-483c-8153-1de851296035",
   "metadata": {},
   "outputs": [],
   "source": [
    "# Instanciar ExampleGen con el input CSV dataset\n",
    "example_gen = CsvExampleGen(input_base=_data_root)"
   ]
  },
  {
   "cell_type": "code",
   "execution_count": 53,
   "id": "e3146734-faae-4f87-bfb8-868cddef8182",
   "metadata": {
    "scrolled": true
   },
   "outputs": [
    {
     "data": {
      "text/html": [
       "<style>\n",
       ".tfx-object.expanded {\n",
       "  padding: 4px 8px 4px 8px;\n",
       "  background: white;\n",
       "  border: 1px solid #bbbbbb;\n",
       "  box-shadow: 4px 4px 2px rgba(0,0,0,0.05);\n",
       "}\n",
       "html[theme=dark] .tfx-object.expanded {\n",
       "  background: black;\n",
       "}\n",
       ".tfx-object, .tfx-object * {\n",
       "  font-size: 11pt;\n",
       "}\n",
       ".tfx-object > .title {\n",
       "  cursor: pointer;\n",
       "}\n",
       ".tfx-object .expansion-marker {\n",
       "  color: #999999;\n",
       "}\n",
       ".tfx-object.expanded > .title > .expansion-marker:before {\n",
       "  content: '▼';\n",
       "}\n",
       ".tfx-object.collapsed > .title > .expansion-marker:before {\n",
       "  content: '▶';\n",
       "}\n",
       ".tfx-object .class-name {\n",
       "  font-weight: bold;\n",
       "}\n",
       ".tfx-object .deemphasize {\n",
       "  opacity: 0.5;\n",
       "}\n",
       ".tfx-object.collapsed > table.attr-table {\n",
       "  display: none;\n",
       "}\n",
       ".tfx-object.expanded > table.attr-table {\n",
       "  display: block;\n",
       "}\n",
       ".tfx-object table.attr-table {\n",
       "  border: 2px solid white;\n",
       "  margin-top: 5px;\n",
       "}\n",
       "html[theme=dark] .tfx-object table.attr-table {\n",
       "  border: 2px solid black;\n",
       "}\n",
       ".tfx-object table.attr-table td.attr-name {\n",
       "  vertical-align: top;\n",
       "  font-weight: bold;\n",
       "}\n",
       ".tfx-object table.attr-table td.attrvalue {\n",
       "  text-align: left;\n",
       "}\n",
       "</style>\n",
       "<script>\n",
       "function toggleTfxObject(element) {\n",
       "  var objElement = element.parentElement;\n",
       "  if (objElement.classList.contains('collapsed')) {\n",
       "    objElement.classList.remove('collapsed');\n",
       "    objElement.classList.add('expanded');\n",
       "  } else {\n",
       "    objElement.classList.add('collapsed');\n",
       "    objElement.classList.remove('expanded');\n",
       "  }\n",
       "}\n",
       "</script>\n",
       "<div class=\"tfx-object expanded\"><div class = \"title\" onclick=\"toggleTfxObject(this)\"><span class=\"expansion-marker\"></span><span class=\"class-name\">ExecutionResult</span><span class=\"deemphasize\"> at 0x7fa7ba43b250</span></div><table class=\"attr-table\"><tr><td class=\"attr-name\">.execution_id</td><td class = \"attrvalue\">2</td></tr><tr><td class=\"attr-name\">.component</td><td class = \"attrvalue\"><style>\n",
       ".tfx-object.expanded {\n",
       "  padding: 4px 8px 4px 8px;\n",
       "  background: white;\n",
       "  border: 1px solid #bbbbbb;\n",
       "  box-shadow: 4px 4px 2px rgba(0,0,0,0.05);\n",
       "}\n",
       "html[theme=dark] .tfx-object.expanded {\n",
       "  background: black;\n",
       "}\n",
       ".tfx-object, .tfx-object * {\n",
       "  font-size: 11pt;\n",
       "}\n",
       ".tfx-object > .title {\n",
       "  cursor: pointer;\n",
       "}\n",
       ".tfx-object .expansion-marker {\n",
       "  color: #999999;\n",
       "}\n",
       ".tfx-object.expanded > .title > .expansion-marker:before {\n",
       "  content: '▼';\n",
       "}\n",
       ".tfx-object.collapsed > .title > .expansion-marker:before {\n",
       "  content: '▶';\n",
       "}\n",
       ".tfx-object .class-name {\n",
       "  font-weight: bold;\n",
       "}\n",
       ".tfx-object .deemphasize {\n",
       "  opacity: 0.5;\n",
       "}\n",
       ".tfx-object.collapsed > table.attr-table {\n",
       "  display: none;\n",
       "}\n",
       ".tfx-object.expanded > table.attr-table {\n",
       "  display: block;\n",
       "}\n",
       ".tfx-object table.attr-table {\n",
       "  border: 2px solid white;\n",
       "  margin-top: 5px;\n",
       "}\n",
       "html[theme=dark] .tfx-object table.attr-table {\n",
       "  border: 2px solid black;\n",
       "}\n",
       ".tfx-object table.attr-table td.attr-name {\n",
       "  vertical-align: top;\n",
       "  font-weight: bold;\n",
       "}\n",
       ".tfx-object table.attr-table td.attrvalue {\n",
       "  text-align: left;\n",
       "}\n",
       "</style>\n",
       "<script>\n",
       "function toggleTfxObject(element) {\n",
       "  var objElement = element.parentElement;\n",
       "  if (objElement.classList.contains('collapsed')) {\n",
       "    objElement.classList.remove('collapsed');\n",
       "    objElement.classList.add('expanded');\n",
       "  } else {\n",
       "    objElement.classList.add('collapsed');\n",
       "    objElement.classList.remove('expanded');\n",
       "  }\n",
       "}\n",
       "</script>\n",
       "<div class=\"tfx-object collapsed\"><div class = \"title\" onclick=\"toggleTfxObject(this)\"><span class=\"expansion-marker\"></span><span class=\"class-name\">CsvExampleGen</span><span class=\"deemphasize\"> at 0x7fa7bc977040</span></div><table class=\"attr-table\"><tr><td class=\"attr-name\">.inputs</td><td class = \"attrvalue\">{}</td></tr><tr><td class=\"attr-name\">.outputs</td><td class = \"attrvalue\"><table class=\"attr-table\"><tr><td class=\"attr-name\">['examples']</td><td class = \"attrvalue\"><style>\n",
       ".tfx-object.expanded {\n",
       "  padding: 4px 8px 4px 8px;\n",
       "  background: white;\n",
       "  border: 1px solid #bbbbbb;\n",
       "  box-shadow: 4px 4px 2px rgba(0,0,0,0.05);\n",
       "}\n",
       "html[theme=dark] .tfx-object.expanded {\n",
       "  background: black;\n",
       "}\n",
       ".tfx-object, .tfx-object * {\n",
       "  font-size: 11pt;\n",
       "}\n",
       ".tfx-object > .title {\n",
       "  cursor: pointer;\n",
       "}\n",
       ".tfx-object .expansion-marker {\n",
       "  color: #999999;\n",
       "}\n",
       ".tfx-object.expanded > .title > .expansion-marker:before {\n",
       "  content: '▼';\n",
       "}\n",
       ".tfx-object.collapsed > .title > .expansion-marker:before {\n",
       "  content: '▶';\n",
       "}\n",
       ".tfx-object .class-name {\n",
       "  font-weight: bold;\n",
       "}\n",
       ".tfx-object .deemphasize {\n",
       "  opacity: 0.5;\n",
       "}\n",
       ".tfx-object.collapsed > table.attr-table {\n",
       "  display: none;\n",
       "}\n",
       ".tfx-object.expanded > table.attr-table {\n",
       "  display: block;\n",
       "}\n",
       ".tfx-object table.attr-table {\n",
       "  border: 2px solid white;\n",
       "  margin-top: 5px;\n",
       "}\n",
       "html[theme=dark] .tfx-object table.attr-table {\n",
       "  border: 2px solid black;\n",
       "}\n",
       ".tfx-object table.attr-table td.attr-name {\n",
       "  vertical-align: top;\n",
       "  font-weight: bold;\n",
       "}\n",
       ".tfx-object table.attr-table td.attrvalue {\n",
       "  text-align: left;\n",
       "}\n",
       "</style>\n",
       "<script>\n",
       "function toggleTfxObject(element) {\n",
       "  var objElement = element.parentElement;\n",
       "  if (objElement.classList.contains('collapsed')) {\n",
       "    objElement.classList.remove('collapsed');\n",
       "    objElement.classList.add('expanded');\n",
       "  } else {\n",
       "    objElement.classList.add('collapsed');\n",
       "    objElement.classList.remove('expanded');\n",
       "  }\n",
       "}\n",
       "</script>\n",
       "<div class=\"tfx-object collapsed\"><div class = \"title\" onclick=\"toggleTfxObject(this)\"><span class=\"expansion-marker\"></span><span class=\"class-name\">Channel</span> of type <span class=\"class-name\">'Examples'</span> (1 artifact)<span class=\"deemphasize\"> at 0x7fa7ad3290c0</span></div><table class=\"attr-table\"><tr><td class=\"attr-name\">.type_name</td><td class = \"attrvalue\">Examples</td></tr><tr><td class=\"attr-name\">._artifacts</td><td class = \"attrvalue\"><table class=\"attr-table\"><tr><td class=\"attr-name\">[0]</td><td class = \"attrvalue\"><style>\n",
       ".tfx-object.expanded {\n",
       "  padding: 4px 8px 4px 8px;\n",
       "  background: white;\n",
       "  border: 1px solid #bbbbbb;\n",
       "  box-shadow: 4px 4px 2px rgba(0,0,0,0.05);\n",
       "}\n",
       "html[theme=dark] .tfx-object.expanded {\n",
       "  background: black;\n",
       "}\n",
       ".tfx-object, .tfx-object * {\n",
       "  font-size: 11pt;\n",
       "}\n",
       ".tfx-object > .title {\n",
       "  cursor: pointer;\n",
       "}\n",
       ".tfx-object .expansion-marker {\n",
       "  color: #999999;\n",
       "}\n",
       ".tfx-object.expanded > .title > .expansion-marker:before {\n",
       "  content: '▼';\n",
       "}\n",
       ".tfx-object.collapsed > .title > .expansion-marker:before {\n",
       "  content: '▶';\n",
       "}\n",
       ".tfx-object .class-name {\n",
       "  font-weight: bold;\n",
       "}\n",
       ".tfx-object .deemphasize {\n",
       "  opacity: 0.5;\n",
       "}\n",
       ".tfx-object.collapsed > table.attr-table {\n",
       "  display: none;\n",
       "}\n",
       ".tfx-object.expanded > table.attr-table {\n",
       "  display: block;\n",
       "}\n",
       ".tfx-object table.attr-table {\n",
       "  border: 2px solid white;\n",
       "  margin-top: 5px;\n",
       "}\n",
       "html[theme=dark] .tfx-object table.attr-table {\n",
       "  border: 2px solid black;\n",
       "}\n",
       ".tfx-object table.attr-table td.attr-name {\n",
       "  vertical-align: top;\n",
       "  font-weight: bold;\n",
       "}\n",
       ".tfx-object table.attr-table td.attrvalue {\n",
       "  text-align: left;\n",
       "}\n",
       "</style>\n",
       "<script>\n",
       "function toggleTfxObject(element) {\n",
       "  var objElement = element.parentElement;\n",
       "  if (objElement.classList.contains('collapsed')) {\n",
       "    objElement.classList.remove('collapsed');\n",
       "    objElement.classList.add('expanded');\n",
       "  } else {\n",
       "    objElement.classList.add('collapsed');\n",
       "    objElement.classList.remove('expanded');\n",
       "  }\n",
       "}\n",
       "</script>\n",
       "<div class=\"tfx-object collapsed\"><div class = \"title\" onclick=\"toggleTfxObject(this)\"><span class=\"expansion-marker\"></span><span class=\"class-name\">Artifact</span> of type <span class=\"class-name\">'Examples'</span> (uri: ./pipeline_root/CsvExampleGen/examples/2)<span class=\"deemphasize\"> at 0x7fa7b994bf10</span></div><table class=\"attr-table\"><tr><td class=\"attr-name\">.type</td><td class = \"attrvalue\">&lt;class &#x27;tfx.types.standard_artifacts.Examples&#x27;&gt;</td></tr><tr><td class=\"attr-name\">.uri</td><td class = \"attrvalue\">./pipeline_root/CsvExampleGen/examples/2</td></tr><tr><td class=\"attr-name\">.span</td><td class = \"attrvalue\">0</td></tr><tr><td class=\"attr-name\">.split_names</td><td class = \"attrvalue\">[&quot;train&quot;, &quot;eval&quot;]</td></tr><tr><td class=\"attr-name\">.version</td><td class = \"attrvalue\">0</td></tr></table></div></td></tr></table></td></tr></table></div></td></tr></table></td></tr><tr><td class=\"attr-name\">.exec_properties</td><td class = \"attrvalue\"><table class=\"attr-table\"><tr><td class=\"attr-name\">['input_base']</td><td class = \"attrvalue\">../data/selected_dataset</td></tr><tr><td class=\"attr-name\">['input_config']</td><td class = \"attrvalue\">{\n",
       "  &quot;splits&quot;: [\n",
       "    {\n",
       "      &quot;name&quot;: &quot;single_split&quot;,\n",
       "      &quot;pattern&quot;: &quot;*&quot;\n",
       "    }\n",
       "  ]\n",
       "}</td></tr><tr><td class=\"attr-name\">['output_config']</td><td class = \"attrvalue\">{\n",
       "  &quot;split_config&quot;: {\n",
       "    &quot;splits&quot;: [\n",
       "      {\n",
       "        &quot;hash_buckets&quot;: 2,\n",
       "        &quot;name&quot;: &quot;train&quot;\n",
       "      },\n",
       "      {\n",
       "        &quot;hash_buckets&quot;: 1,\n",
       "        &quot;name&quot;: &quot;eval&quot;\n",
       "      }\n",
       "    ]\n",
       "  }\n",
       "}</td></tr><tr><td class=\"attr-name\">['output_data_format']</td><td class = \"attrvalue\">6</td></tr><tr><td class=\"attr-name\">['output_file_format']</td><td class = \"attrvalue\">5</td></tr><tr><td class=\"attr-name\">['custom_config']</td><td class = \"attrvalue\">None</td></tr><tr><td class=\"attr-name\">['range_config']</td><td class = \"attrvalue\">None</td></tr><tr><td class=\"attr-name\">['span']</td><td class = \"attrvalue\">0</td></tr><tr><td class=\"attr-name\">['version']</td><td class = \"attrvalue\">None</td></tr><tr><td class=\"attr-name\">['input_fingerprint']</td><td class = \"attrvalue\">split:single_split,num_files:1,total_bytes:3945348,xor_checksum:1740940911,sum_checksum:1740940911</td></tr></table></td></tr></table></div></td></tr><tr><td class=\"attr-name\">.component.inputs</td><td class = \"attrvalue\">{}</td></tr><tr><td class=\"attr-name\">.component.outputs</td><td class = \"attrvalue\"><table class=\"attr-table\"><tr><td class=\"attr-name\">['examples']</td><td class = \"attrvalue\"><style>\n",
       ".tfx-object.expanded {\n",
       "  padding: 4px 8px 4px 8px;\n",
       "  background: white;\n",
       "  border: 1px solid #bbbbbb;\n",
       "  box-shadow: 4px 4px 2px rgba(0,0,0,0.05);\n",
       "}\n",
       "html[theme=dark] .tfx-object.expanded {\n",
       "  background: black;\n",
       "}\n",
       ".tfx-object, .tfx-object * {\n",
       "  font-size: 11pt;\n",
       "}\n",
       ".tfx-object > .title {\n",
       "  cursor: pointer;\n",
       "}\n",
       ".tfx-object .expansion-marker {\n",
       "  color: #999999;\n",
       "}\n",
       ".tfx-object.expanded > .title > .expansion-marker:before {\n",
       "  content: '▼';\n",
       "}\n",
       ".tfx-object.collapsed > .title > .expansion-marker:before {\n",
       "  content: '▶';\n",
       "}\n",
       ".tfx-object .class-name {\n",
       "  font-weight: bold;\n",
       "}\n",
       ".tfx-object .deemphasize {\n",
       "  opacity: 0.5;\n",
       "}\n",
       ".tfx-object.collapsed > table.attr-table {\n",
       "  display: none;\n",
       "}\n",
       ".tfx-object.expanded > table.attr-table {\n",
       "  display: block;\n",
       "}\n",
       ".tfx-object table.attr-table {\n",
       "  border: 2px solid white;\n",
       "  margin-top: 5px;\n",
       "}\n",
       "html[theme=dark] .tfx-object table.attr-table {\n",
       "  border: 2px solid black;\n",
       "}\n",
       ".tfx-object table.attr-table td.attr-name {\n",
       "  vertical-align: top;\n",
       "  font-weight: bold;\n",
       "}\n",
       ".tfx-object table.attr-table td.attrvalue {\n",
       "  text-align: left;\n",
       "}\n",
       "</style>\n",
       "<script>\n",
       "function toggleTfxObject(element) {\n",
       "  var objElement = element.parentElement;\n",
       "  if (objElement.classList.contains('collapsed')) {\n",
       "    objElement.classList.remove('collapsed');\n",
       "    objElement.classList.add('expanded');\n",
       "  } else {\n",
       "    objElement.classList.add('collapsed');\n",
       "    objElement.classList.remove('expanded');\n",
       "  }\n",
       "}\n",
       "</script>\n",
       "<div class=\"tfx-object collapsed\"><div class = \"title\" onclick=\"toggleTfxObject(this)\"><span class=\"expansion-marker\"></span><span class=\"class-name\">Channel</span> of type <span class=\"class-name\">'Examples'</span> (1 artifact)<span class=\"deemphasize\"> at 0x7fa7ad3290c0</span></div><table class=\"attr-table\"><tr><td class=\"attr-name\">.type_name</td><td class = \"attrvalue\">Examples</td></tr><tr><td class=\"attr-name\">._artifacts</td><td class = \"attrvalue\"><table class=\"attr-table\"><tr><td class=\"attr-name\">[0]</td><td class = \"attrvalue\"><style>\n",
       ".tfx-object.expanded {\n",
       "  padding: 4px 8px 4px 8px;\n",
       "  background: white;\n",
       "  border: 1px solid #bbbbbb;\n",
       "  box-shadow: 4px 4px 2px rgba(0,0,0,0.05);\n",
       "}\n",
       "html[theme=dark] .tfx-object.expanded {\n",
       "  background: black;\n",
       "}\n",
       ".tfx-object, .tfx-object * {\n",
       "  font-size: 11pt;\n",
       "}\n",
       ".tfx-object > .title {\n",
       "  cursor: pointer;\n",
       "}\n",
       ".tfx-object .expansion-marker {\n",
       "  color: #999999;\n",
       "}\n",
       ".tfx-object.expanded > .title > .expansion-marker:before {\n",
       "  content: '▼';\n",
       "}\n",
       ".tfx-object.collapsed > .title > .expansion-marker:before {\n",
       "  content: '▶';\n",
       "}\n",
       ".tfx-object .class-name {\n",
       "  font-weight: bold;\n",
       "}\n",
       ".tfx-object .deemphasize {\n",
       "  opacity: 0.5;\n",
       "}\n",
       ".tfx-object.collapsed > table.attr-table {\n",
       "  display: none;\n",
       "}\n",
       ".tfx-object.expanded > table.attr-table {\n",
       "  display: block;\n",
       "}\n",
       ".tfx-object table.attr-table {\n",
       "  border: 2px solid white;\n",
       "  margin-top: 5px;\n",
       "}\n",
       "html[theme=dark] .tfx-object table.attr-table {\n",
       "  border: 2px solid black;\n",
       "}\n",
       ".tfx-object table.attr-table td.attr-name {\n",
       "  vertical-align: top;\n",
       "  font-weight: bold;\n",
       "}\n",
       ".tfx-object table.attr-table td.attrvalue {\n",
       "  text-align: left;\n",
       "}\n",
       "</style>\n",
       "<script>\n",
       "function toggleTfxObject(element) {\n",
       "  var objElement = element.parentElement;\n",
       "  if (objElement.classList.contains('collapsed')) {\n",
       "    objElement.classList.remove('collapsed');\n",
       "    objElement.classList.add('expanded');\n",
       "  } else {\n",
       "    objElement.classList.add('collapsed');\n",
       "    objElement.classList.remove('expanded');\n",
       "  }\n",
       "}\n",
       "</script>\n",
       "<div class=\"tfx-object collapsed\"><div class = \"title\" onclick=\"toggleTfxObject(this)\"><span class=\"expansion-marker\"></span><span class=\"class-name\">Artifact</span> of type <span class=\"class-name\">'Examples'</span> (uri: ./pipeline_root/CsvExampleGen/examples/2)<span class=\"deemphasize\"> at 0x7fa7b994bf10</span></div><table class=\"attr-table\"><tr><td class=\"attr-name\">.type</td><td class = \"attrvalue\">&lt;class &#x27;tfx.types.standard_artifacts.Examples&#x27;&gt;</td></tr><tr><td class=\"attr-name\">.uri</td><td class = \"attrvalue\">./pipeline_root/CsvExampleGen/examples/2</td></tr><tr><td class=\"attr-name\">.span</td><td class = \"attrvalue\">0</td></tr><tr><td class=\"attr-name\">.split_names</td><td class = \"attrvalue\">[&quot;train&quot;, &quot;eval&quot;]</td></tr><tr><td class=\"attr-name\">.version</td><td class = \"attrvalue\">0</td></tr></table></div></td></tr></table></td></tr></table></div></td></tr></table></td></tr></table></div>"
      ],
      "text/plain": [
       "ExecutionResult(\n",
       "    component_id: CsvExampleGen\n",
       "    execution_id: 2\n",
       "    outputs:\n",
       "        examples: OutputChannel(artifact_type=Examples, producer_component_id=CsvExampleGen, output_key=examples, additional_properties={}, additional_custom_properties={}, _input_trigger=None, _is_async=False))"
      ]
     },
     "execution_count": 53,
     "metadata": {},
     "output_type": "execute_result"
    }
   ],
   "source": [
    "# Execute the component\n",
    "context.run(example_gen)"
   ]
  },
  {
   "cell_type": "code",
   "execution_count": null,
   "id": "955922be-7b53-4c83-bc3f-51c80f41afe8",
   "metadata": {},
   "outputs": [],
   "source": []
  }
 ],
 "metadata": {
  "kernelspec": {
   "display_name": "Python 3 (ipykernel)",
   "language": "python",
   "name": "python3"
  },
  "language_info": {
   "codemirror_mode": {
    "name": "ipython",
    "version": 3
   },
   "file_extension": ".py",
   "mimetype": "text/x-python",
   "name": "python",
   "nbconvert_exporter": "python",
   "pygments_lexer": "ipython3",
   "version": "3.10.16"
  }
 },
 "nbformat": 4,
 "nbformat_minor": 5
}
